{
 "cells": [
  {
   "cell_type": "code",
   "execution_count": 2,
   "id": "3be2572c",
   "metadata": {},
   "outputs": [
    {
     "name": "stdout",
     "output_type": "stream",
     "text": [
      "Hello World!\n"
     ]
    }
   ],
   "source": [
    "print(\"Hello World!\")"
   ]
  },
  {
   "cell_type": "code",
   "execution_count": 3,
   "id": "109a5473",
   "metadata": {},
   "outputs": [],
   "source": [
    "#this is a comment in python"
   ]
  },
  {
   "cell_type": "code",
   "execution_count": 6,
   "id": "ad7066d0",
   "metadata": {},
   "outputs": [
    {
     "name": "stdout",
     "output_type": "stream",
     "text": [
      "Hello World!\n"
     ]
    }
   ],
   "source": [
    "print(\"Hello World!\")#hey Harry"
   ]
  },
  {
   "cell_type": "code",
   "execution_count": 7,
   "id": "d963727f",
   "metadata": {},
   "outputs": [
    {
     "data": {
      "text/plain": [
       "' This is a multi line comment in python\\nline 1\\nline 2\\nline 3...\\nand soo on '"
      ]
     },
     "execution_count": 7,
     "metadata": {},
     "output_type": "execute_result"
    }
   ],
   "source": [
    "''' This is a multi line comment in python\n",
    "line 1\n",
    "line 2\n",
    "line 3...\n",
    "and soo on '''"
   ]
  },
  {
   "cell_type": "code",
   "execution_count": 19,
   "id": "6c1a1601",
   "metadata": {},
   "outputs": [
    {
     "name": "stdout",
     "output_type": "stream",
     "text": [
      "hello world\n"
     ]
    }
   ],
   "source": [
    "'''hi, this \n",
    "is a comment in more than\n",
    "one line'''\n",
    "print(\"hello world\")"
   ]
  },
  {
   "cell_type": "code",
   "execution_count": 14,
   "id": "09030d39",
   "metadata": {},
   "outputs": [
    {
     "name": "stdout",
     "output_type": "stream",
     "text": [
      "Hello\n"
     ]
    }
   ],
   "source": [
    "\"\"\"HI\"\"\" \n",
    "print(\"Hello\")"
   ]
  },
  {
   "cell_type": "code",
   "execution_count": 20,
   "id": "cf51fb92",
   "metadata": {},
   "outputs": [
    {
     "name": "stdout",
     "output_type": "stream",
     "text": [
      "3\n"
     ]
    }
   ],
   "source": [
    "a=3\n",
    "print(a)"
   ]
  },
  {
   "cell_type": "code",
   "execution_count": 21,
   "id": "fbe082a1",
   "metadata": {},
   "outputs": [
    {
     "name": "stdout",
     "output_type": "stream",
     "text": [
      "6.2\n"
     ]
    }
   ],
   "source": [
    "a=6.2\n",
    "print(a)"
   ]
  },
  {
   "cell_type": "code",
   "execution_count": 22,
   "id": "c8b44613",
   "metadata": {},
   "outputs": [
    {
     "name": "stdout",
     "output_type": "stream",
     "text": [
      "mudit\n"
     ]
    }
   ],
   "source": [
    "a=\"mudit\"\n",
    "print(a)"
   ]
  },
  {
   "cell_type": "code",
   "execution_count": 23,
   "id": "ef6fbe3a",
   "metadata": {},
   "outputs": [
    {
     "name": "stdout",
     "output_type": "stream",
     "text": [
      "6\n"
     ]
    }
   ],
   "source": [
    "f = \"5\"\n",
    "print(int(f)+1)"
   ]
  },
  {
   "cell_type": "code",
   "execution_count": 24,
   "id": "a70a6b9c",
   "metadata": {},
   "outputs": [
    {
     "name": "stdout",
     "output_type": "stream",
     "text": [
      "Python is awesome\n"
     ]
    }
   ],
   "source": [
    " x = \"Python\"\n",
    "y = \"is\"\n",
    "z = \"awesome\"\n",
    "print(x, y, z)"
   ]
  },
  {
   "cell_type": "code",
   "execution_count": 25,
   "id": "26b46263",
   "metadata": {},
   "outputs": [
    {
     "name": "stdout",
     "output_type": "stream",
     "text": [
      "Python is awesome\n"
     ]
    }
   ],
   "source": [
    "x = \"Python \"\n",
    "y = \"is \"\n",
    "z = \"awesome\"\n",
    "print(x + y + z)"
   ]
  },
  {
   "cell_type": "code",
   "execution_count": 26,
   "id": "4ca1dd5b",
   "metadata": {},
   "outputs": [
    {
     "name": "stdout",
     "output_type": "stream",
     "text": [
      "15\n"
     ]
    }
   ],
   "source": [
    "x = 5\n",
    "y = 10\n",
    "print(x + y)"
   ]
  },
  {
   "cell_type": "code",
   "execution_count": 27,
   "id": "9496a75f",
   "metadata": {},
   "outputs": [
    {
     "data": {
      "text/plain": [
       "14"
      ]
     },
     "execution_count": 27,
     "metadata": {},
     "output_type": "execute_result"
    }
   ],
   "source": [
    "a=10\n",
    "b=4\n",
    "a|b"
   ]
  },
  {
   "cell_type": "code",
   "execution_count": 34,
   "id": "0c86b373",
   "metadata": {},
   "outputs": [
    {
     "name": "stdout",
     "output_type": "stream",
     "text": [
      "True\n"
     ]
    }
   ],
   "source": [
    "a=10\n",
    "b=4\n",
    "print(a==b or a>b)"
   ]
  },
  {
   "cell_type": "code",
   "execution_count": 35,
   "id": "c0f04805",
   "metadata": {},
   "outputs": [
    {
     "data": {
      "text/plain": [
       "14"
      ]
     },
     "execution_count": 35,
     "metadata": {},
     "output_type": "execute_result"
    }
   ],
   "source": [
    "a=10\n",
    "b=4\n",
    "a|b\n"
   ]
  },
  {
   "cell_type": "code",
   "execution_count": 36,
   "id": "18c5d7d8",
   "metadata": {},
   "outputs": [
    {
     "name": "stdout",
     "output_type": "stream",
     "text": [
      "a & b = 0\n",
      "a | b = 14\n",
      "~a = -11\n",
      "a ^ b = 14\n"
     ]
    }
   ],
   "source": [
    "print(\"a & b =\", a & b)\n",
    " \n",
    "# Print bitwise OR operation\n",
    "print(\"a | b =\", a | b)\n",
    " \n",
    "# Print bitwise NOT operation\n",
    "print(\"~a =\", ~a)\n",
    " \n",
    "# print bitwise XOR operation\n",
    "print(\"a ^ b =\", a ^ b)"
   ]
  },
  {
   "cell_type": "code",
   "execution_count": 37,
   "id": "aadcad73",
   "metadata": {},
   "outputs": [
    {
     "name": "stdout",
     "output_type": "stream",
     "text": [
      "a >> 1 = 5\n",
      "b >> 1 = -5\n"
     ]
    }
   ],
   "source": [
    "a = 10\n",
    "b = -10\n",
    " \n",
    "# print bitwise right shift operator\n",
    "print(\"a >> 1 =\", a >> 1)\n",
    "print(\"b >> 1 =\", b >> 1)\n",
    " \n"
   ]
  },
  {
   "cell_type": "code",
   "execution_count": 41,
   "id": "484072ee",
   "metadata": {},
   "outputs": [
    {
     "name": "stdout",
     "output_type": "stream",
     "text": [
      "a << 1 = 10\n",
      "a << 2 = 20\n"
     ]
    }
   ],
   "source": [
    "a = 5\n",
    "\n",
    " \n",
    "# print bitwise left shift operator\n",
    "print(\"a << 1 =\", a << 1)\n",
    "print(\"a << 2 =\", a << 2)"
   ]
  },
  {
   "cell_type": "code",
   "execution_count": 2,
   "id": "4cc519c6",
   "metadata": {},
   "outputs": [
    {
     "name": "stdout",
     "output_type": "stream",
     "text": [
      "False\n"
     ]
    }
   ],
   "source": [
    "x=10\n",
    "y=5\n",
    "print(x==y and x>y)"
   ]
  },
  {
   "cell_type": "code",
   "execution_count": 3,
   "id": "3eb0579a",
   "metadata": {},
   "outputs": [
    {
     "name": "stdout",
     "output_type": "stream",
     "text": [
      "False\n"
     ]
    }
   ],
   "source": [
    "print(x==y and x<y)"
   ]
  },
  {
   "cell_type": "code",
   "execution_count": 4,
   "id": "354d3e36",
   "metadata": {},
   "outputs": [
    {
     "name": "stdout",
     "output_type": "stream",
     "text": [
      "True\n"
     ]
    }
   ],
   "source": [
    "print(x>y and y==5)"
   ]
  },
  {
   "cell_type": "code",
   "execution_count": 6,
   "id": "6152176e",
   "metadata": {},
   "outputs": [
    {
     "name": "stdout",
     "output_type": "stream",
     "text": [
      "True\n"
     ]
    }
   ],
   "source": [
    "print(not(False))"
   ]
  },
  {
   "cell_type": "code",
   "execution_count": 7,
   "id": "1141f45f",
   "metadata": {},
   "outputs": [
    {
     "name": "stdout",
     "output_type": "stream",
     "text": [
      "False\n"
     ]
    }
   ],
   "source": [
    "print(not(True))"
   ]
  },
  {
   "cell_type": "code",
   "execution_count": 8,
   "id": "a5a6dff1",
   "metadata": {},
   "outputs": [
    {
     "name": "stdout",
     "output_type": "stream",
     "text": [
      "Requirement already satisfied: pandas in d:\\programes\\anaconda\\lib\\site-packages (1.2.4)\n",
      "Requirement already satisfied: python-dateutil>=2.7.3 in d:\\programes\\anaconda\\lib\\site-packages (from pandas) (2.8.1)\n",
      "Requirement already satisfied: pytz>=2017.3 in d:\\programes\\anaconda\\lib\\site-packages (from pandas) (2021.1)\n",
      "Requirement already satisfied: numpy>=1.16.5 in d:\\programes\\anaconda\\lib\\site-packages (from pandas) (1.20.1)\n",
      "Requirement already satisfied: six>=1.5 in d:\\programes\\anaconda\\lib\\site-packages (from python-dateutil>=2.7.3->pandas) (1.15.0)\n",
      "Note: you may need to restart the kernel to use updated packages.\n"
     ]
    }
   ],
   "source": [
    "pip install pandas"
   ]
  },
  {
   "cell_type": "code",
   "execution_count": 9,
   "id": "f3ea093e",
   "metadata": {},
   "outputs": [],
   "source": [
    "import pandas as pd\n"
   ]
  },
  {
   "cell_type": "code",
   "execution_count": 10,
   "id": "908fe84c",
   "metadata": {},
   "outputs": [
    {
     "name": "stdout",
     "output_type": "stream",
     "text": [
      "Requirement already satisfied: openpyxl in d:\\programes\\anaconda\\lib\\site-packages (3.0.7)\n",
      "Requirement already satisfied: et-xmlfile in d:\\programes\\anaconda\\lib\\site-packages (from openpyxl) (1.0.1)\n",
      "Note: you may need to restart the kernel to use updated packages.\n"
     ]
    }
   ],
   "source": [
    "pip install openpyxl\n"
   ]
  },
  {
   "cell_type": "code",
   "execution_count": 16,
   "id": "0107c083",
   "metadata": {},
   "outputs": [
    {
     "name": "stdout",
     "output_type": "stream",
     "text": [
      "                                     JECRC University  \\\n",
      "0                                                 NaN   \n",
      "1    B.Tech Computer Science Engineering (Semester...   \n",
      "2                                                Date   \n",
      "3                                                 NaN   \n",
      "4                                          14.03.2023   \n",
      "5                                                 NaN   \n",
      "6                                          16.03.2023   \n",
      "7                                                 NaN   \n",
      "8                                          18.03.2023   \n",
      "9                                                 NaN   \n",
      "10                                         20.03.2023   \n",
      "11                                                NaN   \n",
      "12                                                NaN   \n",
      "13                                                NaN   \n",
      "14                                                NaN   \n",
      "15                                                NaN   \n",
      "16                                                NaN   \n",
      "\n",
      "                                           Unnamed: 1  \\\n",
      "0   Time Table - 1st In Sem Examination March - 2023    \n",
      "1                                                 NaN   \n",
      "2                                        Shift & Time   \n",
      "3                                                 NaN   \n",
      "4                     Shift -I (09:00 AM to 10:30 AM)   \n",
      "5                    Shift -II (11:00 AM to 12:30 PM)   \n",
      "6                     Shift -I (09:00 AM to 10:30 AM)   \n",
      "7                    Shift -II (11:00 AM to 12:30 PM)   \n",
      "8                     Shift -I (09:00 AM to 10:30 AM)   \n",
      "9                    Shift -II (11:00 AM to 12:30 PM)   \n",
      "10                    Shift -I (09:00 AM to 10:30 AM)   \n",
      "11                   Shift -II (11:00 AM to 12:30 PM)   \n",
      "12                                                NaN   \n",
      "13                                                NaN   \n",
      "14                                                NaN   \n",
      "15                                                NaN   \n",
      "16                                                NaN   \n",
      "\n",
      "                                   Unnamed: 2  \\\n",
      "0                                         NaN   \n",
      "1                                         NaN   \n",
      "2                           Section A,B,C,D,E   \n",
      "3                                     Subject   \n",
      "4              Python Programming BCO/SPL031A   \n",
      "5   Computer Organization and Design BCO009B    \n",
      "6        Database Management Systems BCO010C    \n",
      "7          Google Cloud- BCO094A / Salesforce   \n",
      "8         Life Skills - 2 (Aptitude) DMA003A    \n",
      "9                               Open Elactive   \n",
      "10                                      xxxxx   \n",
      "11                                      xxxxx   \n",
      "12                                        NaN   \n",
      "13                                        NaN   \n",
      "14                                        NaN   \n",
      "15                                        NaN   \n",
      "16                                        NaN   \n",
      "\n",
      "                                           Unnamed: 3  \\\n",
      "0                                                 NaN   \n",
      "1                                                 NaN   \n",
      "2                                   XEBIA (Section F)   \n",
      "3                                             Subject   \n",
      "4   Unsupervised Learning & Neural Networks BCO357...   \n",
      "5           Computer Organization and Design BCO009B    \n",
      "6                Database Management Systems BCO010C    \n",
      "7                  Google Cloud- BCO094A / Salesforce   \n",
      "8                 Life Skills - 2 (Aptitude) DMA003A    \n",
      "9                                       Open Elactive   \n",
      "10  Backend Development with NodeJS (3) BCA380A /O...   \n",
      "11                                              xxxxx   \n",
      "12                                                NaN   \n",
      "13                                                NaN   \n",
      "14                                                NaN   \n",
      "15                                                NaN   \n",
      "16                                                NaN   \n",
      "\n",
      "                                        Unnamed: 4  \\\n",
      "0                                              NaN   \n",
      "1                                              NaN   \n",
      "2                         SAMATRIX (Section G & H)   \n",
      "3                                          Subject   \n",
      "4   Machine Learning & Pattern Recognition BCO323B   \n",
      "5        Computer Organization and Design BCO009B    \n",
      "6             Database Management Systems BCO010C    \n",
      "7               Google Cloud- BCO094A / Salesforce   \n",
      "8              Life Skills - 2 (Aptitude) DMA003A    \n",
      "9                                    Open Elactive   \n",
      "10                                           xxxxx   \n",
      "11                                           xxxxx   \n",
      "12                                             NaN   \n",
      "13                                             NaN   \n",
      "14                                             NaN   \n",
      "15                                             NaN   \n",
      "16                                             NaN   \n",
      "\n",
      "                                   Unnamed: 5  \\\n",
      "0                                         NaN   \n",
      "1                                         NaN   \n",
      "2                     EC-Council  (Section I)   \n",
      "3                                     Subject   \n",
      "4          Certified Network Defender BCO340A   \n",
      "5   Computer Organization and Design BCO009B    \n",
      "6        Database Management Systems BCO010C    \n",
      "7          Google Cloud- BCO094A / Salesforce   \n",
      "8         Life Skills - 2 (Aptitude) DMA003A    \n",
      "9                               Open Elactive   \n",
      "10                                      xxxxx   \n",
      "11                                      xxxxx   \n",
      "12                                        NaN   \n",
      "13                                        NaN   \n",
      "14                                        NaN   \n",
      "15                                        NaN   \n",
      "16                                        NaN   \n",
      "\n",
      "                                           Unnamed: 6  \\\n",
      "0                                                 NaN   \n",
      "1                                                 NaN   \n",
      "2                                     TCS (Section J)   \n",
      "3                                             Subject   \n",
      "4   Introduction to Innovation, IP Management & En...   \n",
      "5                                     Design Thinking   \n",
      "6           Marketing Research & Marketing Management   \n",
      "7             Essence of Indian Traditional Knowledge   \n",
      "8                                               xxxxx   \n",
      "9                                               xxxxx   \n",
      "10                                              xxxxx   \n",
      "11                                              xxxxx   \n",
      "12                                                NaN   \n",
      "13                                                NaN   \n",
      "14                                                NaN   \n",
      "15                                                NaN   \n",
      "16                                                NaN   \n",
      "\n",
      "                                           Unnamed: 7  \\\n",
      "0                                                 NaN   \n",
      "1                                                 NaN   \n",
      "2                                     IBM (Section K)   \n",
      "3                                             Subject   \n",
      "4   Statistics 101, Spark Mllib, MachineLearning- ...   \n",
      "5           Computer Organization and Design BCO009B    \n",
      "6                Database Management Systems BCO010C    \n",
      "7                  Google Cloud- BCO094A / Salesforce   \n",
      "8                 Life Skills - 2 (Aptitude) DMA003A    \n",
      "9                                       Open Elactive   \n",
      "10            Deep Learning with Tensor Flow BCO125A    \n",
      "11    Cognitive Decision System for Managers BCO124A    \n",
      "12                                                NaN   \n",
      "13                                                NaN   \n",
      "14                                                NaN   \n",
      "15                                               DCoE   \n",
      "16                                   JECRC University   \n",
      "\n",
      "                                           Unnamed: 8  \n",
      "0                                                 NaN  \n",
      "1                                                 NaN  \n",
      "2                         AWS & Microsoft (Section L)  \n",
      "3                                             Subject  \n",
      "4                          Python Programming BCO081B  \n",
      "5           Computer Organization and Design BCO009B   \n",
      "6                Database Management Systems BCO010C   \n",
      "7                  Google Cloud- BCO094A / Salesforce  \n",
      "8                 Life Skills - 2 (Aptitude) DMA003A   \n",
      "9                                       Open Elactive  \n",
      "10  AWS Cloud Security BCO483A / Azure Administrat...  \n",
      "11                                              xxxxx  \n",
      "12                                                NaN  \n",
      "13                                                NaN  \n",
      "14                                                NaN  \n",
      "15                                                NaN  \n",
      "16                                                NaN  \n"
     ]
    }
   ],
   "source": [
    "df = pd.read_excel(r\"C:\\Users\\Mudit\\Downloads\\extra\\1st In Sem Exam B Tech CSE IV & VI Sem March 2023.xlsx\") #use r to convert to raw string\n",
    "print(df) "
   ]
  },
  {
   "cell_type": "code",
   "execution_count": 17,
   "id": "74267613",
   "metadata": {},
   "outputs": [
    {
     "name": "stdout",
     "output_type": "stream",
     "text": [
      "                                     JECRC University  \\\n",
      "0                                                 NaN   \n",
      "1    B.Tech Computer Science Engineering (Semester...   \n",
      "2                                                Date   \n",
      "3                                                 NaN   \n",
      "4                                          14.03.2023   \n",
      "5                                                 NaN   \n",
      "6                                          16.03.2023   \n",
      "7                                                 NaN   \n",
      "8                                          18.03.2023   \n",
      "9                                                 NaN   \n",
      "10                                         20.03.2023   \n",
      "11                                                NaN   \n",
      "12                                                NaN   \n",
      "13                                                NaN   \n",
      "14                                                NaN   \n",
      "15                                                NaN   \n",
      "16                                                NaN   \n",
      "\n",
      "                                           Unnamed: 1  \\\n",
      "0   Time Table - 1st In Sem Examination March - 2023    \n",
      "1                                                 NaN   \n",
      "2                                        Shift & Time   \n",
      "3                                                 NaN   \n",
      "4                     Shift -I (09:00 AM to 10:30 AM)   \n",
      "5                    Shift -II (11:00 AM to 12:30 PM)   \n",
      "6                     Shift -I (09:00 AM to 10:30 AM)   \n",
      "7                    Shift -II (11:00 AM to 12:30 PM)   \n",
      "8                     Shift -I (09:00 AM to 10:30 AM)   \n",
      "9                    Shift -II (11:00 AM to 12:30 PM)   \n",
      "10                    Shift -I (09:00 AM to 10:30 AM)   \n",
      "11                   Shift -II (11:00 AM to 12:30 PM)   \n",
      "12                                                NaN   \n",
      "13                                                NaN   \n",
      "14                                                NaN   \n",
      "15                                                NaN   \n",
      "16                                                NaN   \n",
      "\n",
      "                                   Unnamed: 2  \\\n",
      "0                                         NaN   \n",
      "1                                         NaN   \n",
      "2                           Section A,B,C,D,E   \n",
      "3                                     Subject   \n",
      "4              Python Programming BCO/SPL031A   \n",
      "5   Computer Organization and Design BCO009B    \n",
      "6        Database Management Systems BCO010C    \n",
      "7          Google Cloud- BCO094A / Salesforce   \n",
      "8         Life Skills - 2 (Aptitude) DMA003A    \n",
      "9                               Open Elactive   \n",
      "10                                      xxxxx   \n",
      "11                                      xxxxx   \n",
      "12                                        NaN   \n",
      "13                                        NaN   \n",
      "14                                        NaN   \n",
      "15                                        NaN   \n",
      "16                                        NaN   \n",
      "\n",
      "                                           Unnamed: 3  \\\n",
      "0                                                 NaN   \n",
      "1                                                 NaN   \n",
      "2                                   XEBIA (Section F)   \n",
      "3                                             Subject   \n",
      "4   Unsupervised Learning & Neural Networks BCO357...   \n",
      "5           Computer Organization and Design BCO009B    \n",
      "6                Database Management Systems BCO010C    \n",
      "7                  Google Cloud- BCO094A / Salesforce   \n",
      "8                 Life Skills - 2 (Aptitude) DMA003A    \n",
      "9                                       Open Elactive   \n",
      "10  Backend Development with NodeJS (3) BCA380A /O...   \n",
      "11                                              xxxxx   \n",
      "12                                                NaN   \n",
      "13                                                NaN   \n",
      "14                                                NaN   \n",
      "15                                                NaN   \n",
      "16                                                NaN   \n",
      "\n",
      "                                        Unnamed: 4  \\\n",
      "0                                              NaN   \n",
      "1                                              NaN   \n",
      "2                         SAMATRIX (Section G & H)   \n",
      "3                                          Subject   \n",
      "4   Machine Learning & Pattern Recognition BCO323B   \n",
      "5        Computer Organization and Design BCO009B    \n",
      "6             Database Management Systems BCO010C    \n",
      "7               Google Cloud- BCO094A / Salesforce   \n",
      "8              Life Skills - 2 (Aptitude) DMA003A    \n",
      "9                                    Open Elactive   \n",
      "10                                           xxxxx   \n",
      "11                                           xxxxx   \n",
      "12                                             NaN   \n",
      "13                                             NaN   \n",
      "14                                             NaN   \n",
      "15                                             NaN   \n",
      "16                                             NaN   \n",
      "\n",
      "                                   Unnamed: 5  \\\n",
      "0                                         NaN   \n",
      "1                                         NaN   \n",
      "2                     EC-Council  (Section I)   \n",
      "3                                     Subject   \n",
      "4          Certified Network Defender BCO340A   \n",
      "5   Computer Organization and Design BCO009B    \n",
      "6        Database Management Systems BCO010C    \n",
      "7          Google Cloud- BCO094A / Salesforce   \n",
      "8         Life Skills - 2 (Aptitude) DMA003A    \n",
      "9                               Open Elactive   \n",
      "10                                      xxxxx   \n",
      "11                                      xxxxx   \n",
      "12                                        NaN   \n",
      "13                                        NaN   \n",
      "14                                        NaN   \n",
      "15                                        NaN   \n",
      "16                                        NaN   \n",
      "\n",
      "                                           Unnamed: 6  \\\n",
      "0                                                 NaN   \n",
      "1                                                 NaN   \n",
      "2                                     TCS (Section J)   \n",
      "3                                             Subject   \n",
      "4   Introduction to Innovation, IP Management & En...   \n",
      "5                                     Design Thinking   \n",
      "6           Marketing Research & Marketing Management   \n",
      "7             Essence of Indian Traditional Knowledge   \n",
      "8                                               xxxxx   \n",
      "9                                               xxxxx   \n",
      "10                                              xxxxx   \n",
      "11                                              xxxxx   \n",
      "12                                                NaN   \n",
      "13                                                NaN   \n",
      "14                                                NaN   \n",
      "15                                                NaN   \n",
      "16                                                NaN   \n",
      "\n",
      "                                           Unnamed: 7  \\\n",
      "0                                                 NaN   \n",
      "1                                                 NaN   \n",
      "2                                     IBM (Section K)   \n",
      "3                                             Subject   \n",
      "4   Statistics 101, Spark Mllib, MachineLearning- ...   \n",
      "5           Computer Organization and Design BCO009B    \n",
      "6                Database Management Systems BCO010C    \n",
      "7                  Google Cloud- BCO094A / Salesforce   \n",
      "8                 Life Skills - 2 (Aptitude) DMA003A    \n",
      "9                                       Open Elactive   \n",
      "10            Deep Learning with Tensor Flow BCO125A    \n",
      "11    Cognitive Decision System for Managers BCO124A    \n",
      "12                                                NaN   \n",
      "13                                                NaN   \n",
      "14                                                NaN   \n",
      "15                                               DCoE   \n",
      "16                                   JECRC University   \n",
      "\n",
      "                                           Unnamed: 8  \n",
      "0                                                 NaN  \n",
      "1                                                 NaN  \n",
      "2                         AWS & Microsoft (Section L)  \n",
      "3                                             Subject  \n",
      "4                          Python Programming BCO081B  \n",
      "5           Computer Organization and Design BCO009B   \n",
      "6                Database Management Systems BCO010C   \n",
      "7                  Google Cloud- BCO094A / Salesforce  \n",
      "8                 Life Skills - 2 (Aptitude) DMA003A   \n",
      "9                                       Open Elactive  \n",
      "10  AWS Cloud Security BCO483A / Azure Administrat...  \n",
      "11                                              xxxxx  \n",
      "12                                                NaN  \n",
      "13                                                NaN  \n",
      "14                                                NaN  \n",
      "15                                                NaN  \n",
      "16                                                NaN  \n"
     ]
    }
   ],
   "source": [
    "#or we can convert the path to forward slash or double backward slash\n",
    "df = pd.read_excel(\"C:/Users/Mudit/Downloads/extra/1st In Sem Exam B Tech CSE IV & VI Sem March 2023.xlsx\") \n",
    "print(df) "
   ]
  },
  {
   "cell_type": "code",
   "execution_count": 18,
   "id": "3bfd44ef",
   "metadata": {},
   "outputs": [
    {
     "name": "stdout",
     "output_type": "stream",
     "text": [
      "                                     JECRC University  \\\n",
      "0                                                 NaN   \n",
      "1    B.Tech Computer Science Engineering (Semester...   \n",
      "2                                                Date   \n",
      "3                                                 NaN   \n",
      "4                                          14.03.2023   \n",
      "5                                                 NaN   \n",
      "6                                          16.03.2023   \n",
      "7                                                 NaN   \n",
      "8                                          18.03.2023   \n",
      "9                                                 NaN   \n",
      "10                                         20.03.2023   \n",
      "11                                                NaN   \n",
      "12                                                NaN   \n",
      "13                                                NaN   \n",
      "14                                                NaN   \n",
      "15                                                NaN   \n",
      "16                                                NaN   \n",
      "\n",
      "                                           Unnamed: 1  \\\n",
      "0   Time Table - 1st In Sem Examination March - 2023    \n",
      "1                                                 NaN   \n",
      "2                                        Shift & Time   \n",
      "3                                                 NaN   \n",
      "4                     Shift -I (09:00 AM to 10:30 AM)   \n",
      "5                    Shift -II (11:00 AM to 12:30 PM)   \n",
      "6                     Shift -I (09:00 AM to 10:30 AM)   \n",
      "7                    Shift -II (11:00 AM to 12:30 PM)   \n",
      "8                     Shift -I (09:00 AM to 10:30 AM)   \n",
      "9                    Shift -II (11:00 AM to 12:30 PM)   \n",
      "10                    Shift -I (09:00 AM to 10:30 AM)   \n",
      "11                   Shift -II (11:00 AM to 12:30 PM)   \n",
      "12                                                NaN   \n",
      "13                                                NaN   \n",
      "14                                                NaN   \n",
      "15                                                NaN   \n",
      "16                                                NaN   \n",
      "\n",
      "                                   Unnamed: 2  \\\n",
      "0                                         NaN   \n",
      "1                                         NaN   \n",
      "2                           Section A,B,C,D,E   \n",
      "3                                     Subject   \n",
      "4              Python Programming BCO/SPL031A   \n",
      "5   Computer Organization and Design BCO009B    \n",
      "6        Database Management Systems BCO010C    \n",
      "7          Google Cloud- BCO094A / Salesforce   \n",
      "8         Life Skills - 2 (Aptitude) DMA003A    \n",
      "9                               Open Elactive   \n",
      "10                                      xxxxx   \n",
      "11                                      xxxxx   \n",
      "12                                        NaN   \n",
      "13                                        NaN   \n",
      "14                                        NaN   \n",
      "15                                        NaN   \n",
      "16                                        NaN   \n",
      "\n",
      "                                           Unnamed: 3  \\\n",
      "0                                                 NaN   \n",
      "1                                                 NaN   \n",
      "2                                   XEBIA (Section F)   \n",
      "3                                             Subject   \n",
      "4   Unsupervised Learning & Neural Networks BCO357...   \n",
      "5           Computer Organization and Design BCO009B    \n",
      "6                Database Management Systems BCO010C    \n",
      "7                  Google Cloud- BCO094A / Salesforce   \n",
      "8                 Life Skills - 2 (Aptitude) DMA003A    \n",
      "9                                       Open Elactive   \n",
      "10  Backend Development with NodeJS (3) BCA380A /O...   \n",
      "11                                              xxxxx   \n",
      "12                                                NaN   \n",
      "13                                                NaN   \n",
      "14                                                NaN   \n",
      "15                                                NaN   \n",
      "16                                                NaN   \n",
      "\n",
      "                                        Unnamed: 4  \\\n",
      "0                                              NaN   \n",
      "1                                              NaN   \n",
      "2                         SAMATRIX (Section G & H)   \n",
      "3                                          Subject   \n",
      "4   Machine Learning & Pattern Recognition BCO323B   \n",
      "5        Computer Organization and Design BCO009B    \n",
      "6             Database Management Systems BCO010C    \n",
      "7               Google Cloud- BCO094A / Salesforce   \n",
      "8              Life Skills - 2 (Aptitude) DMA003A    \n",
      "9                                    Open Elactive   \n",
      "10                                           xxxxx   \n",
      "11                                           xxxxx   \n",
      "12                                             NaN   \n",
      "13                                             NaN   \n",
      "14                                             NaN   \n",
      "15                                             NaN   \n",
      "16                                             NaN   \n",
      "\n",
      "                                   Unnamed: 5  \\\n",
      "0                                         NaN   \n",
      "1                                         NaN   \n",
      "2                     EC-Council  (Section I)   \n",
      "3                                     Subject   \n",
      "4          Certified Network Defender BCO340A   \n",
      "5   Computer Organization and Design BCO009B    \n",
      "6        Database Management Systems BCO010C    \n",
      "7          Google Cloud- BCO094A / Salesforce   \n",
      "8         Life Skills - 2 (Aptitude) DMA003A    \n",
      "9                               Open Elactive   \n",
      "10                                      xxxxx   \n",
      "11                                      xxxxx   \n",
      "12                                        NaN   \n",
      "13                                        NaN   \n",
      "14                                        NaN   \n",
      "15                                        NaN   \n",
      "16                                        NaN   \n",
      "\n",
      "                                           Unnamed: 6  \\\n",
      "0                                                 NaN   \n",
      "1                                                 NaN   \n",
      "2                                     TCS (Section J)   \n",
      "3                                             Subject   \n",
      "4   Introduction to Innovation, IP Management & En...   \n",
      "5                                     Design Thinking   \n",
      "6           Marketing Research & Marketing Management   \n",
      "7             Essence of Indian Traditional Knowledge   \n",
      "8                                               xxxxx   \n",
      "9                                               xxxxx   \n",
      "10                                              xxxxx   \n",
      "11                                              xxxxx   \n",
      "12                                                NaN   \n",
      "13                                                NaN   \n",
      "14                                                NaN   \n",
      "15                                                NaN   \n",
      "16                                                NaN   \n",
      "\n",
      "                                           Unnamed: 7  \\\n",
      "0                                                 NaN   \n",
      "1                                                 NaN   \n",
      "2                                     IBM (Section K)   \n",
      "3                                             Subject   \n",
      "4   Statistics 101, Spark Mllib, MachineLearning- ...   \n",
      "5           Computer Organization and Design BCO009B    \n",
      "6                Database Management Systems BCO010C    \n",
      "7                  Google Cloud- BCO094A / Salesforce   \n",
      "8                 Life Skills - 2 (Aptitude) DMA003A    \n",
      "9                                       Open Elactive   \n",
      "10            Deep Learning with Tensor Flow BCO125A    \n",
      "11    Cognitive Decision System for Managers BCO124A    \n",
      "12                                                NaN   \n",
      "13                                                NaN   \n",
      "14                                                NaN   \n",
      "15                                               DCoE   \n",
      "16                                   JECRC University   \n",
      "\n",
      "                                           Unnamed: 8  \n",
      "0                                                 NaN  \n",
      "1                                                 NaN  \n",
      "2                         AWS & Microsoft (Section L)  \n",
      "3                                             Subject  \n",
      "4                          Python Programming BCO081B  \n",
      "5           Computer Organization and Design BCO009B   \n",
      "6                Database Management Systems BCO010C   \n",
      "7                  Google Cloud- BCO094A / Salesforce  \n",
      "8                 Life Skills - 2 (Aptitude) DMA003A   \n",
      "9                                       Open Elactive  \n",
      "10  AWS Cloud Security BCO483A / Azure Administrat...  \n",
      "11                                              xxxxx  \n",
      "12                                                NaN  \n",
      "13                                                NaN  \n",
      "14                                                NaN  \n",
      "15                                                NaN  \n",
      "16                                                NaN  \n"
     ]
    }
   ],
   "source": [
    "#using double backward slash\n",
    "df = pd.read_excel(\"C:\\\\Users\\\\Mudit\\\\Downloads\\\\extra\\\\1st In Sem Exam B Tech CSE IV & VI Sem March 2023.xlsx\") \n",
    "print(df)"
   ]
  },
  {
   "cell_type": "code",
   "execution_count": 2,
   "id": "2bb233d4",
   "metadata": {
    "scrolled": false
   },
   "outputs": [
    {
     "name": "stdout",
     "output_type": "stream",
     "text": [
      "mudit\n"
     ]
    }
   ],
   "source": [
    "name=\"mudit\"\n",
    "print(name)"
   ]
  },
  {
   "cell_type": "code",
   "execution_count": 2,
   "id": "022e4e09",
   "metadata": {
    "scrolled": true
   },
   "outputs": [
    {
     "name": "stdout",
     "output_type": "stream",
     "text": [
      "mud\n"
     ]
    }
   ],
   "source": [
    "print(name[0:3])"
   ]
  },
  {
   "cell_type": "code",
   "execution_count": 3,
   "id": "c3751190",
   "metadata": {},
   "outputs": [
    {
     "name": "stdout",
     "output_type": "stream",
     "text": [
      "udi\n"
     ]
    }
   ],
   "source": [
    "print(name[1:4])"
   ]
  },
  {
   "cell_type": "code",
   "execution_count": 3,
   "id": "f7075faf",
   "metadata": {},
   "outputs": [
    {
     "name": "stdout",
     "output_type": "stream",
     "text": [
      "MUDIT\n"
     ]
    }
   ],
   "source": [
    "print(name.upper())"
   ]
  },
  {
   "cell_type": "code",
   "execution_count": 4,
   "id": "a0fee2bb",
   "metadata": {},
   "outputs": [
    {
     "name": "stdout",
     "output_type": "stream",
     "text": [
      "mudit\n"
     ]
    }
   ],
   "source": [
    "print(name.lower())"
   ]
  },
  {
   "cell_type": "code",
   "execution_count": 5,
   "id": "4f318c0d",
   "metadata": {},
   "outputs": [
    {
     "name": "stdout",
     "output_type": "stream",
     "text": [
      "mdt\n"
     ]
    }
   ],
   "source": [
    "print(name[::2]) #skip characters by 2 index"
   ]
  },
  {
   "cell_type": "code",
   "execution_count": null,
   "id": "23df54bb",
   "metadata": {},
   "outputs": [],
   "source": []
  }
 ],
 "metadata": {
  "kernelspec": {
   "display_name": "Python 3",
   "language": "python",
   "name": "python3"
  },
  "language_info": {
   "codemirror_mode": {
    "name": "ipython",
    "version": 3
   },
   "file_extension": ".py",
   "mimetype": "text/x-python",
   "name": "python",
   "nbconvert_exporter": "python",
   "pygments_lexer": "ipython3",
   "version": "3.8.8"
  }
 },
 "nbformat": 4,
 "nbformat_minor": 5
}
